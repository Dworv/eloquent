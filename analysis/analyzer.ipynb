{
 "cells": [
  {
   "cell_type": "code",
   "execution_count": 5,
   "metadata": {},
   "outputs": [
    {
     "name": "stdout",
     "output_type": "stream",
     "text": [
      "[{'start': 'w', 'end': 's', 'time': 0.10049207000000049}, {'start': 'g', 'end': 'b', 'time': 0.09968557899999908}, {'start': 'g', 'end': 'r', 'time': 0.10016319200000012}, {'start': 'z', 'end': 'q', 'time': 0.06650466099999974}, {'start': 'k', 'end': ',', 'time': 0.09954895600000135}, {'start': 'a', 'end': 'z', 'time': 0.11674980200000107}, {'start': 'g', 'end': 'v', 'time': 0.1162943950000006}, {'start': 'o', 'end': '.', 'time': 0.18228782799999976}, {'start': 's', 'end': 'w', 'time': 0.0667862200000009}, {'start': 't', 'end': 'r', 'time': 0.3007095799999995}, {'start': 's', 'end': 'w', 'time': 0.06699562399999692}, {'start': 'z', 'end': 'a', 'time': 0.11685902299999995}, {'start': 'm', 'end': 'h', 'time': 0.13243974299999905}, {'start': 'c', 'end': 'd', 'time': 0.06750744900000072}, {'start': '/', 'end': ';', 'time': 0.2999911750000024}, {'start': 'y', 'end': 'm', 'time': 0.2494832849999966}, {'start': 'x', 'end': 'w', 'time': 0.15033053800000573}, {'start': 'z', 'end': 'a', 'time': 0.13413931099999843}, {'start': 's', 'end': 'x', 'time': 0.15042214800000409}, {'start': 'r', 'end': 'b', 'time': 0.18349857500000155}, {'start': '/', 'end': 'p', 'time': 0.2830192230000037}, {'start': 'd', 'end': 'e', 'time': 0.08320098800000153}, {'start': 'w', 'end': 'x', 'time': 0.16653070999999642}, {'start': 'p', 'end': '/', 'time': 0.6009637910000052}, {'start': 'o', 'end': '.', 'time': 0.6007360109999951}, {'start': 'm', 'end': 'n', 'time': 0.03331661899999716}, {'start': 'i', 'end': 'k', 'time': 0.08311124900000522}, {'start': 'x', 'end': 'w', 'time': 0.11693739800000458}, {'start': ';', 'end': 'p', 'time': 0.09942984699999613}, {'start': 'k', 'end': ',', 'time': 0.2500225809999961}, {'start': 'q', 'end': 'z', 'time': 0.13320910900000626}, {'start': 'n', 'end': 'y', 'time': 0.149957196999992}, {'start': 'f', 'end': 'r', 'time': 1.599786662999989}, {'start': 'c', 'end': 'e', 'time': 0.2664698979999969}, {'start': 'u', 'end': 'm', 'time': 1.5503714660000014}, {'start': 'l', 'end': '.', 'time': 0.18283997799998986}, {'start': 'o', 'end': 'l', 'time': 0.15029191800000774}, {'start': 'o', 'end': '.', 'time': 0.20066479800000536}, {'start': 'e', 'end': 'd', 'time': 0.08258195099999455}, {'start': ';', 'end': '/', 'time': 0.8160399989999974}, {'start': ',', 'end': 'i', 'time': 0.5337492720000085}, {'start': 'm', 'end': 'n', 'time': 0.0995358190000104}, {'start': 'a', 'end': 'z', 'time': 0.13329762800000822}, {'start': 'q', 'end': 'z', 'time': 0.16704542099999742}, {'start': 'w', 'end': 'x', 'time': 0.18367698699999835}, {'start': 'd', 'end': 'e', 'time': 0.15061648999999022}, {'start': 'z', 'end': 'a', 'time': 0.1332968170000015}, {'start': 'x', 'end': 's', 'time': 0.1495210759999992}, {'start': 'a', 'end': 'z', 'time': 0.14952291600000933}, {'start': ',', 'end': 'k', 'time': 0.7663040690000003}]\n"
     ]
    }
   ],
   "source": [
    "from json import load\n",
    "from os import listdir\n",
    "\n",
    "test_list = []\n",
    "\n",
    "for name in listdir(\"tests\"):\n",
    "    if name.startswith(\"speedtest\") and name.endswith(\".json\"):\n",
    "        test_list.append(load(open(\"tests/\" + name)))\n",
    "\n",
    "print(test_list[0])"
   ]
  }
 ],
 "metadata": {
  "kernelspec": {
   "display_name": "Python 3",
   "language": "python",
   "name": "python3"
  },
  "language_info": {
   "codemirror_mode": {
    "name": "ipython",
    "version": 3
   },
   "file_extension": ".py",
   "mimetype": "text/x-python",
   "name": "python",
   "nbconvert_exporter": "python",
   "pygments_lexer": "ipython3",
   "version": "3.11.0b3"
  }
 },
 "nbformat": 4,
 "nbformat_minor": 2
}
