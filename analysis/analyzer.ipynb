{
 "cells": [
  {
   "cell_type": "code",
   "execution_count": 19,
   "metadata": {},
   "outputs": [],
   "source": [
    "from json import load\n",
    "from os import listdir\n",
    "\n",
    "test_list = []\n",
    "\n",
    "for name in listdir(\"tests\"):\n",
    "    if name.startswith(\"speedtest\") and name.endswith(\".json\"):\n",
    "        test_list.append(load(open(\"tests/\" + name)))"
   ]
  },
  {
   "cell_type": "code",
   "execution_count": 20,
   "metadata": {},
   "outputs": [],
   "source": [
    "import numpy as np\n",
    "\n",
    "def reject_outliers(data, m=1.75):\n",
    "    d = np.abs(data - np.median(data))\n",
    "    mdev = np.median(d)\n",
    "    s = d / (mdev if mdev else 1.)\n",
    "    return data[s < m]\n",
    "\n",
    "for test in test_list:\n",
    "    times = [x[\"time\"] for x in test]\n",
    "    filtered_times = reject_outliers(np.array(times))\n",
    "    for i in reversed(range(len(test))):\n",
    "        run = test[i]\n",
    "        if not run[\"time\"] in filtered_times:\n",
    "            test.pop(i)"
   ]
  },
  {
   "cell_type": "code",
   "execution_count": 24,
   "metadata": {},
   "outputs": [
    {
     "name": "stdout",
     "output_type": "stream",
     "text": [
      "Finger averages: [0.13480391839394065, 0.12135909219403088, 0.12151773833802755, 0.1256274805882343, 0.12436576564285635, 0.117880126537036, 0.11550019495744653, 0.13465857063829748]\n"
     ]
    }
   ],
   "source": [
    "# finger avgs\n",
    "\n",
    "fingers = [\n",
    "    [\"q\", \"a\", \"z\"],\n",
    "    [\"w\", \"s\", \"x\"],\n",
    "    [\"e\", \"d\", \"c\"],\n",
    "    [\"r\", \"f\", \"v\", \"t\", \"g\", \"b\"],\n",
    "    [\"y\", \"h\", \"n\", \"u\", \"j\", \"m\"],\n",
    "    [\"i\", \"k\", \",\"],\n",
    "    [\"o\", \"l\", \".\"],\n",
    "    [\"p\", \";\", \"/\"],\n",
    "]\n",
    "\n",
    "finger_sums = [0 for i in range(8)]\n",
    "finger_counts = [0 for i in range(8)]\n",
    "\n",
    "for test in test_list:\n",
    "    for movement in test:\n",
    "        for i, finger in enumerate(fingers):\n",
    "            if movement[\"start\"] in finger:\n",
    "                finger_sums[i] += movement[\"time\"]\n",
    "                finger_counts[i] += 1\n",
    "                break\n",
    "\n",
    "print(\"Finger averages:\", [sum / count for sum, count in zip(finger_sums, finger_counts)])"
   ]
  },
  {
   "cell_type": "code",
   "execution_count": 29,
   "metadata": {},
   "outputs": [
    {
     "name": "stdout",
     "output_type": "stream",
     "text": [
      "Row averages: [[0, 0.10399111057894707, 0.1473111289384604], [0.1359606804400003, 0, 0.11188148100000082], [0.13913771342857184, 0.10003799085416698, 0]]\n"
     ]
    }
   ],
   "source": [
    "# row avgs\n",
    "\n",
    "rows = [\n",
    "    [\"q\", \"w\", \"e\", \"i\", \"o\", \"p\"],\n",
    "    [\"a\", \"s\", \"d\", \"k\", \"l\", \";\"],\n",
    "    [\"z\", \"x\", \"c\", \",\", \".\", \"/\"],\n",
    "]\n",
    "\n",
    "def get_row(key):\n",
    "    for i, row in enumerate(rows):\n",
    "        if key in row:\n",
    "            return i\n",
    "\n",
    "row_sums = [[0 for i in range(3)] for i in range(3)]\n",
    "row_counts = [[0 for i in range(3)] for i in range(3)]\n",
    "\n",
    "for test in test_list:\n",
    "    for movement in test:\n",
    "        start_row = get_row(movement[\"start\"])\n",
    "        end_row = get_row(movement[\"end\"])\n",
    "        if start_row is None:\n",
    "            continue\n",
    "        if start_row == end_row:\n",
    "            print(\"WHAT\", start_row, end_row)\n",
    "        row_sums[start_row][end_row] += movement[\"time\"]\n",
    "        row_counts[start_row][end_row] += 1\n",
    "\n",
    "print(\"Row averages:\", [[(sum / count if not count == 0 else 0) for sum, count in zip(row_sum, row_count)] for row_sum, row_count in zip(row_sums, row_counts)])"
   ]
  },
  {
   "cell_type": "code",
   "execution_count": null,
   "metadata": {},
   "outputs": [],
   "source": [
    "# index avgs\n"
   ]
  }
 ],
 "metadata": {
  "kernelspec": {
   "display_name": "Python 3",
   "language": "python",
   "name": "python3"
  },
  "language_info": {
   "codemirror_mode": {
    "name": "ipython",
    "version": 3
   },
   "file_extension": ".py",
   "mimetype": "text/x-python",
   "name": "python",
   "nbconvert_exporter": "python",
   "pygments_lexer": "ipython3",
   "version": "3.11.0b3"
  }
 },
 "nbformat": 4,
 "nbformat_minor": 2
}
